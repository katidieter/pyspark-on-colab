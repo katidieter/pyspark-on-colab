{
  "nbformat": 4,
  "nbformat_minor": 0,
  "metadata": {
    "colab": {
      "provenance": []
    },
    "kernelspec": {
      "name": "python3",
      "display_name": "Python 3"
    },
    "language_info": {
      "name": "python"
    }
  },
  "cells": [
    {
      "cell_type": "markdown",
      "source": [
        "# PySpark on google colab"
      ],
      "metadata": {
        "id": "v8sE7yly87Ft"
      }
    },
    {
      "cell_type": "markdown",
      "source": [
        "## [Optional] Connecting to google drive directories"
      ],
      "metadata": {
        "id": "joOPSbZ49EZJ"
      }
    },
    {
      "cell_type": "code",
      "source": [
        "from google.colab import drive\n",
        "drive.mount('/content/drive')"
      ],
      "metadata": {
        "colab": {
          "base_uri": "https://localhost:8080/"
        },
        "id": "9Uo8JVHF8jmc",
        "outputId": "d16f6a9e-6152-4154-c56a-7704bad0fa3d"
      },
      "execution_count": 7,
      "outputs": [
        {
          "output_type": "stream",
          "name": "stdout",
          "text": [
            "Drive already mounted at /content/drive; to attempt to forcibly remount, call drive.mount(\"/content/drive\", force_remount=True).\n"
          ]
        }
      ]
    },
    {
      "cell_type": "markdown",
      "source": [
        "## Running Spark Code"
      ],
      "metadata": {
        "id": "lqw6Xn8q-I7Z"
      }
    },
    {
      "cell_type": "markdown",
      "source": [
        "### Install pyspark library"
      ],
      "metadata": {
        "id": "QCGBL_Zi_Id5"
      }
    },
    {
      "cell_type": "code",
      "source": [
        "!pip install pyspark"
      ],
      "metadata": {
        "colab": {
          "base_uri": "https://localhost:8080/"
        },
        "id": "w4BJz659971E",
        "outputId": "c946e7e2-aecd-49eb-cff4-e38e433ab44f"
      },
      "execution_count": 4,
      "outputs": [
        {
          "output_type": "stream",
          "name": "stdout",
          "text": [
            "Requirement already satisfied: pyspark in /usr/local/lib/python3.10/dist-packages (3.0.0)\n",
            "Requirement already satisfied: py4j==0.10.9 in /usr/local/lib/python3.10/dist-packages (from pyspark) (0.10.9)\n"
          ]
        }
      ]
    },
    {
      "cell_type": "markdown",
      "source": [
        "### Start Spark Session"
      ],
      "metadata": {
        "id": "rUw17XS8_NK6"
      }
    },
    {
      "cell_type": "code",
      "source": [
        "from pyspark.sql import SparkSession\n",
        "spark = SparkSession.builder\\\n",
        "        .master(\"local\")\\\n",
        "        .appName(\"PySparkOnColab\")\\\n",
        "        .config('spark.ui.port', '4050')\\\n",
        "        .getOrCreate()"
      ],
      "metadata": {
        "id": "EYY4TxTV66Q2"
      },
      "execution_count": 1,
      "outputs": []
    },
    {
      "cell_type": "code",
      "source": [
        "spark"
      ],
      "metadata": {
        "colab": {
          "base_uri": "https://localhost:8080/",
          "height": 221
        },
        "id": "bRk4ZlnH68sp",
        "outputId": "388895a9-7045-41b8-c235-9c744f4d9dfa"
      },
      "execution_count": 3,
      "outputs": [
        {
          "output_type": "execute_result",
          "data": {
            "text/plain": [
              "<pyspark.sql.session.SparkSession at 0x7fb858f06830>"
            ],
            "text/html": [
              "\n",
              "            <div>\n",
              "                <p><b>SparkSession - in-memory</b></p>\n",
              "                \n",
              "        <div>\n",
              "            <p><b>SparkContext</b></p>\n",
              "\n",
              "            <p><a href=\"http://fd0e47f27498:4050\">Spark UI</a></p>\n",
              "\n",
              "            <dl>\n",
              "              <dt>Version</dt>\n",
              "                <dd><code>v3.0.0</code></dd>\n",
              "              <dt>Master</dt>\n",
              "                <dd><code>local</code></dd>\n",
              "              <dt>AppName</dt>\n",
              "                <dd><code>Colab</code></dd>\n",
              "            </dl>\n",
              "        </div>\n",
              "        \n",
              "            </div>\n",
              "        "
            ]
          },
          "metadata": {},
          "execution_count": 3
        }
      ]
    },
    {
      "cell_type": "markdown",
      "source": [
        "### Exploring the dataframe"
      ],
      "metadata": {
        "id": "T0MNuu4B_mW6"
      }
    },
    {
      "cell_type": "markdown",
      "source": [
        "I have donwloaded a [Friends Series Dataset](https://www.kaggle.com/datasets/rezaghari/friends-series-dataset?resource=download) and upload it at public_datasets directory in my drive and read it to create a spark dataframe."
      ],
      "metadata": {
        "id": "t13jAS0zBpvP"
      }
    },
    {
      "cell_type": "code",
      "source": [
        "df = spark.read.csv('/content/drive/MyDrive/public_datasets/friends_episodes_v3.csv', header=True)"
      ],
      "metadata": {
        "id": "sIF4LhCr7Gai"
      },
      "execution_count": 9,
      "outputs": []
    },
    {
      "cell_type": "markdown",
      "source": [
        "Now it is available to explore and use as I want."
      ],
      "metadata": {
        "id": "lHPC_Ym6CT20"
      }
    },
    {
      "cell_type": "code",
      "source": [
        "df.printSchema()"
      ],
      "metadata": {
        "colab": {
          "base_uri": "https://localhost:8080/"
        },
        "id": "ga9HT28vBLdb",
        "outputId": "cf85c8b5-affb-4bbf-83ce-95b693f3dc31"
      },
      "execution_count": 14,
      "outputs": [
        {
          "output_type": "stream",
          "name": "stdout",
          "text": [
            "root\n",
            " |-- Year_of_prod: string (nullable = true)\n",
            " |-- Season: string (nullable = true)\n",
            " |-- Episode Number: string (nullable = true)\n",
            " |-- Episode_Title: string (nullable = true)\n",
            " |-- Duration: string (nullable = true)\n",
            " |-- Summary: string (nullable = true)\n",
            " |-- Director: string (nullable = true)\n",
            " |-- Stars: string (nullable = true)\n",
            " |-- Votes: string (nullable = true)\n",
            "\n"
          ]
        }
      ]
    },
    {
      "cell_type": "code",
      "source": [
        "df.show(5)"
      ],
      "metadata": {
        "colab": {
          "base_uri": "https://localhost:8080/"
        },
        "id": "liTQhy7GAbfv",
        "outputId": "266d56f7-7487-44bd-a6c9-da5bf0f88da3"
      },
      "execution_count": 11,
      "outputs": [
        {
          "output_type": "stream",
          "name": "stdout",
          "text": [
            "+------------+------+--------------+--------------------+--------+--------------------+-------------+-----+-----+\n",
            "|Year_of_prod|Season|Episode Number|       Episode_Title|Duration|             Summary|     Director|Stars|Votes|\n",
            "+------------+------+--------------+--------------------+--------+--------------------+-------------+-----+-----+\n",
            "|        1994|     1|             1|The One Where Mon...|      22|\"Monica and the g...|James Burrows|  8.3| 7440|\n",
            "|        1994|     1|             2|The One with the ...|      22|Ross finds out hi...|James Burrows|  8.1| 4888|\n",
            "|        1994|     1|             3|The One with the ...|      22|Monica becomes ir...|James Burrows|  8.2| 4605|\n",
            "|        1994|     1|             4|The One with Geor...|      22|Joey and Chandler...|James Burrows|  8.1| 4468|\n",
            "|        1994|     1|             5|The One with the ...|      22|Eager to spend ti...|Pamela Fryman|  8.5| 4438|\n",
            "+------------+------+--------------+--------------------+--------+--------------------+-------------+-----+-----+\n",
            "only showing top 5 rows\n",
            "\n"
          ]
        }
      ]
    },
    {
      "cell_type": "code",
      "source": [
        "df.count()"
      ],
      "metadata": {
        "colab": {
          "base_uri": "https://localhost:8080/"
        },
        "id": "dGTYpgo4BCgp",
        "outputId": "a8eb9744-d61f-48b0-f04a-0f6a3cadc07e"
      },
      "execution_count": 12,
      "outputs": [
        {
          "output_type": "execute_result",
          "data": {
            "text/plain": [
              "236"
            ]
          },
          "metadata": {},
          "execution_count": 12
        }
      ]
    },
    {
      "cell_type": "code",
      "source": [
        "df.select(\"Duration\", \"Stars\", \"Votes\").summary().show()"
      ],
      "metadata": {
        "colab": {
          "base_uri": "https://localhost:8080/"
        },
        "id": "uazRXtpfBFtW",
        "outputId": "0129bcae-b6cc-483a-8ff2-b48d0bf7bcba"
      },
      "execution_count": 15,
      "outputs": [
        {
          "output_type": "stream",
          "name": "stdout",
          "text": [
            "+-------+------------------+-------------------+--------------------+\n",
            "|summary|          Duration|              Stars|               Votes|\n",
            "+-------+------------------+-------------------+--------------------+\n",
            "|  count|               236|                236|                 236|\n",
            "|   mean|22.338983050847457|   8.45991379310345|  3348.1850427350423|\n",
            "| stddev| 1.514302530177835|0.39824940670237874|   920.1202921862531|\n",
            "|    min|                22|             Rachel| Phoebe and Chand...|\n",
            "|    25%|              22.0|                8.2|              2871.0|\n",
            "|    50%|              22.0|                8.4|              3150.0|\n",
            "|    75%|              22.0|                8.7|              3591.0|\n",
            "|    max|                30|       Kevin Bright|      Gary Halvorson|\n",
            "+-------+------------------+-------------------+--------------------+\n",
            "\n"
          ]
        }
      ]
    },
    {
      "cell_type": "markdown",
      "source": [
        "Do you want to know more about PySpark?\n",
        "[Start here](https://spark.apache.org/docs/latest/api/python/getting_started/quickstart_df.html)"
      ],
      "metadata": {
        "id": "MZu_5hRwDeXv"
      }
    }
  ]
}